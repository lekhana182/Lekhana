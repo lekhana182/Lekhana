{
 "cells": [
  {
   "cell_type": "code",
   "execution_count": null,
   "metadata": {},
   "outputs": [],
   "source": [
    "import matplotlib.pyplot as plt\n",
    "from mpl_toolkits.mplot3d import Axes3D\n",
    "\n",
    "class Visualizer:\n",
    "    def __init__(self):\n",
    "        self.fig = plt.figure()\n",
    "        self.ax = self.fig.add_subplot(111, projection='3d')\n",
    "\n",
    "    def display_particles(self, particles):\n",
    "        self.ax.clear()\n",
    "        colors = {\"proton\": \"red\", \"electron\": \"blue\", \"muon\": \"green\"}\n",
    "        for particle in particles:\n",
    "            self.ax.scatter(*particle.position, color=colors.get(particle.type, \"black\"))\n",
    "        plt.draw()\n",
    "        plt.pause(0.10)\n"
   ]
  }
 ],
 "metadata": {
  "language_info": {
   "name": "python"
  }
 },
 "nbformat": 4,
 "nbformat_minor": 2
}
