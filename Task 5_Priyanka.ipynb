{
 "cells": [
  {
   "cell_type": "code",
   "execution_count": null,
   "metadata": {},
   "outputs": [],
   "source": [
    "import csv\n",
    "import json\n",
    "\n",
    "class DataLogger:\n",
    "    def __init__(self, filename=\"simulation_data\"):\n",
    "        self.filename = filename\n",
    "        self.data = []\n",
    "\n",
    "    def log_event(self, event_type, details):\n",
    "        self.data.append({\"event\": event_type, \"details\": details})\n",
    "\n",
    "    def save_to_csv(self):\n",
    "        with open(f\"{self.filename}.csv\", \"w\", newline=\"\") as file:\n",
    "            writer = csv.DictWriter(file, fieldnames=[\"event\", \"details\"])\n",
    "            writer.writeheader()\n",
    "            writer.writerows(self.data)\n",
    "\n",
    "    def save_to_json(self):\n",
    "        with open(f\"{self.filename}.json\", \"w\") as file:\n",
    "            json.dump(self.data, file, indent=4)\n"
   ]
  }
 ],
 "metadata": {
  "language_info": {
   "name": "python"
  }
 },
 "nbformat": 4,
 "nbformat_minor": 2
}
