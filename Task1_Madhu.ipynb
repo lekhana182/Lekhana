{
 "cells": [
  {
   "cell_type": "markdown",
   "id": "9ae5a596",
   "metadata": {},
   "source": [
    "import numpy as np\n",
    "import random\n",
    "\n",
    "class Particle:\n",
    "    def __init__(self, position, velocity, mass, particle_type):\n",
    "        self.position = np.array(position, dtype=float)\n",
    "        self.velocity = np.array(velocity, dtype=float)\n",
    "        self.mass = mass\n",
    "        self.type = particle_type\n",
    "        self.energy = self.calculate_kinetic_energy()\n",
    "\n",
    "    def calculate_kinetic_energy(self):\n",
    "        speed_squared = np.sum(self.velocity**2)\n",
    "        return 0.5 * self.mass * speed_squared\n",
    "\n",
    "    def update_position(self, time_step):\n",
    "        self.position += self.velocity * time_step\n",
    "\n",
    "    def detect_decay(self):\n",
    "        decay_probability = 0.05  # Example decay chance\n",
    "        if random.random() < decay_probability:\n",
    "            return self.simulate_decay()\n",
    "        return [self]\n",
    "\n",
    "    def simulate_decay(self):\n",
    "        if self.type == \"proton\":\n",
    "            return [\n",
    "                Particle(self.position, [0, 0, 0], 0.511, \"electron\"),i\n",
    "                Particle(self.position, [0, 0, 0], 0.0, \"neutrino\")\n",
    "            ]\n",
    "        elif self.type == \"muon\":\n",
    "            return [\n",
    "                Particle(self.position, [0, 0, 0], 0.105, \"electron\"),\n",
    "                Particle(self.position, [0, 0, 0], 0.0, \"neutrino\")\n",
    "            ]\n",
    "        return [self]\n",
    "\n",
    "    def __repr__(self):\n",
    "        return f\"Particle(type={self.type}, position={self.position.tolist()}, velocity={self.velocity.tolist()}, mass={self.mass}, energy={self.energy})\"\n"
   ]
  }
 ],
 "metadata": {
  "language_info": {
   "name": "python"
  }
 },
 "nbformat": 4,
 "nbformat_minor": 5
}
